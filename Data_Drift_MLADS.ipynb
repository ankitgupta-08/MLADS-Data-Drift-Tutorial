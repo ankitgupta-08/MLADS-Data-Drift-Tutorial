{
 "cells": [
  {
   "cell_type": "markdown",
   "metadata": {},
   "source": [
    "# Detecting Machine Learning Model Data Drift using Azure ML & Azure Data Bricks "
   ]
  },
  {
   "cell_type": "markdown",
   "metadata": {},
   "source": [
    "## Session Objective"
   ]
  },
  {
   "cell_type": "markdown",
   "metadata": {},
   "source": [
    "_\"Change is the only constant in life”_ adage holds true for machine learning (ML) models in production, as over time they could deteriorate in their accuracy or in their predictive power as the distribution of input features change overtime typically, called data drift. This is more pronounced during times of extreme environment like COVID.\n",
    "\n",
    "The goal of this tutorial is to provide an overview of the data drift concept as well as a walk-through of detecting data drift for in-production ML models in a scalable & efficient way using **Azure Databricks & Azure ML** . \n"
   ]
  },
  {
   "cell_type": "markdown",
   "metadata": {},
   "source": [
    "## Description"
   ]
  },
  {
   "cell_type": "markdown",
   "metadata": {},
   "source": [
    "Data drift is one of the top reasons model accuracy degrades over time. For machine learning models, data drift is the change in model input data that leads to model performance degradation. Monitoring data drift helps detect these model performance issues apriori. Causes of data drift include:\n",
    "1. **Upstream process changes like metric definition changes**\n",
    "2. **Data quality issues, such as a broken CRM system which shows Revenue as null**\n",
    "3. **Natural drift in the data, such as Revenue changing across quarters or due to external environment like COVID**\n",
    "\n",
    "Our goal in this tutorial is to convey a theoretical and practical aspect of data drift used for in-production models in a scalable & efficient manner. The learnings can be applied for any machine learning model in any business.\n",
    " \n",
    "We will talk about the power of Azure Machine Learning which simplifies data drift detection by computing a single metric abstracting the complexity of datasets being compared. These datasets may have hundreds of features and tens of thousands of rows. Once drift is detected, you can drill down into which features are causing the drift. You then inspect feature level metrics to debug and isolate the root cause for the drift. This top down approach makes it easy to monitor data instead of traditional rules-based techniques. All this can be done for multiple models in an automated way leveraging the power of Azure Data Bricks and Azure ML. \n",
    "\n",
    "The fundamental idea this tutorial will aim to convey is that incorporating Data drift for machine learning model would help in detecting model performance degradation apriori and reduce the cost of prediction gone wrong in a scalable and automated way.\n"
   ]
  },
  {
   "cell_type": "markdown",
   "metadata": {},
   "source": [
    "## Prerequisites\n",
    "\n",
    "*  Azure subscription. If you don't have an Azure subscription, create a [free](https://azure.microsoft.com/en-us/free/) account before you begin. \n",
    "\n",
    "*  [Azure Machine Learning workspace](https://docs.microsoft.com/en-us/azure/machine-learning/how-to-manage-workspace). Try the [free or paid](https://azure.microsoft.com/en-us/free/services/machine-learning/) version of Azure Machine Learning today.\n",
    "\n",
    "*  [Azure Machine Learning SDK](https://docs.microsoft.com/en-us/python/api/overview/azure/ml/?view=azure-ml-py) for Python installed, which includes the azureml-datasets package.\n",
    "\n",
    "*  Azure Data Bricks with runtime 6.0 and above and Azure Data Lake storage(ADLS) mounted in it.\n",
    "\n",
    "*  Training Data and Scoring Data in Parquet format\n",
    "\n",
    "\n"
   ]
  },
  {
   "cell_type": "markdown",
   "metadata": {},
   "source": [
    "### Step 1 Save Training Data in parquet format\n",
    "\n",
    "* Save training data in Azure Data lake storage(ADLS) in parquet format. Training data should contain final list of features which are used for training. Include timestamp for training. (Timestamp is optional for training data)\n",
    "\n",
    "* Parquet format stores the metadata information in file and thus prevent data-type mismatch issues\n",
    "\n",
    "* We had provided a sample python code below to maintain the consistency across different models"
   ]
  },
  {
   "cell_type": "markdown",
   "metadata": {},
   "source": [
    "#### Python Code"
   ]
  },
  {
   "cell_type": "code",
   "execution_count": 4,
   "metadata": {},
   "outputs": [],
   "source": [
    "import pandas as pd\n",
    "import numpy as np\n",
    "from datetime import datetime\n",
    "from datetime import date\n",
    "import pyarrow\n",
    "\n",
    "def training_file_parquet(dataframe,save_path,columns_excluded=None):\n",
    "  ####dataframe = Training Python data frame \n",
    "  ####save_path = save directory path for saving the file. Eg-'/dbfs/mnt/data/ModelOutput/Data_Drift/test_model/Training/'\n",
    "  ####columns_excluded = column to exclude from data drift(List) - This is optional. It is used to exlude ID columns like customer ID etc which are not needed for data drift.\n",
    "    if columns_excluded is not None:\n",
    "        dataframe_v1 = dataframe.drop(columns_excluded, axis=1).copy(deep=True)\n",
    "    else:\n",
    "        dataframe_v1=dataframe.copy(deep=True)\n",
    "    dataframe_v1['training_date'] = date.today()\n",
    "    dataframe_v1['training_date'] = pd.to_datetime(dataframe_v1['training_date'], infer_datetime_format=True)\n",
    "    model_save_path = save_path +  'training_data'+'.gzip'\n",
    "    dataframe_v1.to_parquet(model_save_path,compression='gzip',engine='pyarrow')\n",
    "    return"
   ]
  },
  {
   "cell_type": "markdown",
   "metadata": {},
   "source": [
    "### Step 2 Save Scoring Data in Parquet Format\n",
    "* Save Scoring data in Azure Data lake storage(ADLS) in parquet format.Scoring Data should contains final list of features which are used for scoring. \n",
    "* Add TimeStamp column while saving data into ADLS(Timestamp is mandatory)\n",
    "* We had provided a sample python function below to maintain the consistency across different models"
   ]
  },
  {
   "cell_type": "code",
   "execution_count": 10,
   "metadata": {},
   "outputs": [],
   "source": [
    "import pandas as pd\n",
    "import numpy as np\n",
    "from datetime import datetime\n",
    "from datetime import date\n",
    "import pyarrow\n",
    "import os\n",
    "\n",
    "  \n",
    "def createFolder(directory):\n",
    "    try:\n",
    "        if not os.path.exists(directory):\n",
    "            os.makedirs(directory)\n",
    "    except OSError:\n",
    "        print ('Error: Creating directory. ' +  directory)\n",
    "\n",
    "def scoring_file_parquet(dataframe,save_path,columns_excluded=None):\n",
    "  ####dataframe = Scoring Python data frame\n",
    "  ####save_path = Save directory path for saving the file. Eg-'/dbfs/mnt/data/ModelOutput/Data_Drift/test_model/Scoring/'\n",
    "  ####columns_excluded = column to exclude from data drift(List) - This is optional. It is used to exlude ID columns like customer ID etc which are not needed for data drift.\n",
    "    if columns_excluded is not None:\n",
    "        dataframe_v1 = dataframe.drop(columns_excluded, axis=1).copy(deep=True)\n",
    "    else:\n",
    "        dataframe_v1=dataframe.copy(deep=True)\n",
    "    dataframe_v1['scoring_date'] = date.today()\n",
    "    dataframe_v1['scoring_date'] = pd.to_datetime(dataframe_v1['scoring_date'], infer_datetime_format=True)\n",
    "    createFolder(save_path + datetime.today().strftime('%Y-%m-%d'))\n",
    "    model_save_path = save_path + datetime.today().strftime('%Y-%m-%d') +'/'+ 'scoring_data_'+ str(date.today()) +'.gzip'\n",
    "    dataframe_v1.to_parquet(model_save_path,compression='gzip',engine='pyarrow')\n",
    "    return"
   ]
  },
  {
   "cell_type": "markdown",
   "metadata": {},
   "source": [
    "### Step 3a-Create a Data drift monitor for each individual model\n",
    "### Step 3b-Upload training and scoring data files in Azure ML DataStore for individual model for each run\n",
    "### Step 3c- Set up backfill time window for each individual model\n",
    "\n",
    "\n",
    "* We have created a python function which takes care of all three steps and can be also be used for scaling for multiple models "
   ]
  },
  {
   "cell_type": "code",
   "execution_count": 14,
   "metadata": {},
   "outputs": [
    {
     "name": "stdout",
     "output_type": "stream",
     "text": [
      "SDK version: 1.9.0\n"
     ]
    }
   ],
   "source": [
    "import azureml.core\n",
    "import pandas as pd\n",
    "from azureml.core import *\n",
    "from azureml.core import Workspace\n",
    "print('SDK version:', azureml.core.VERSION)\n",
    "from azureml.core import Workspace, Datastore\n",
    "from azureml.core.compute import AmlCompute, ComputeTarget\n",
    "from azureml.datadrift import DataDriftDetector, AlertConfiguration\n",
    "from azureml.core.authentication import ServicePrincipalAuthentication\n",
    "\n",
    "prinid = dbutils.secrets.get(scope='<>' , key ='<>') #########It will work in data bricks environment. Please modify on need basis\n",
    "prinpass = dbutils.secrets.get(scope='<>' , key ='<>') #########It will work in data bricks environment. Please modify on need basis\n",
    "\n",
    "sp = ServicePrincipalAuthentication(tenant_id = \"<>\",\n",
    "                                    service_principal_id = prinid,\n",
    "                                    service_principal_password=prinpass)\n",
    "\n",
    "ws = Workspace.get(name=\"<>\",\n",
    "               auth=sp,    \n",
    "               subscription_id='<>',\n",
    "               resource_group='<>'\n",
    "                  )\n",
    "\n",
    "\n",
    "######Function for creating data drift functionality for each model and running it on a daily basis\n",
    "def data_drift_function(model_files_path, model_datastore_name, model_datamonitor_name,alert_email_Address=None,exclude_list=None):\n",
    "  ## Function to enable drift monitor, upload files in data store and run a backfill job\n",
    "  ## model_files_path = ADLS path where model files are uploaded. For Eg-/dbfs/mnt/data/ModelOutput/Data_Drift/test_model\n",
    "  ## model_datastore_name = Model data store folder name . For Eg-'ACR_Propensity_Longterm'\n",
    "  ## model_datamonitor_name = Model Data monitor name . Eg- ACR_prop_long_datadrift\n",
    "  ## exclude_list =  list of features need to exclude from data drift monitor. Eg-['OpportunityID]\n",
    "  ## alert_email_Address = email to recieve alerts from the scheduled pipeline after enabling. Eg-['****@microsoft.com'] \n",
    "\n",
    "    dstore = ws.get_default_datastore()############getting default datastore linked to subscription which will be used for uploading data\n",
    "    dstore.upload(model_files_path, model_datastore_name, overwrite=True, show_progress=True) #############uploading latest model files into datastrore\n",
    "  \n",
    "    baseline = Dataset.Tabular.from_parquet_files(dstore.path(model_datastore_name + '/Training/**' )) ##################assigning baseline for Data drift\n",
    "    \n",
    "    target = Dataset.Tabular.from_parquet_files(dstore.path(model_datastore_name + '/Scoring/**')) ##############assigning target for Data drift\n",
    "    target = target.with_timestamp_columns('scoring_date') ###############Assigning Date column for data drift target\n",
    "\n",
    "    \n",
    "  ##compute details section##\n",
    "    compute_name = 'cluster'\n",
    "  \n",
    "    if compute_name in ws.compute_targets:\n",
    "        compute_target = ws.compute_targets[compute_name]\n",
    "    if compute_target and type(compute_target) is AmlCompute:\n",
    "        print('found compute target. just use it. ' + compute_name)\n",
    "    else:\n",
    "        print('creating a new compute target...')\n",
    "        provisioning_config = AmlCompute.provisioning_configuration(vm_size='cluster', min_nodes=0, max_nodes=4)\n",
    "\n",
    "      ### create the cluster\n",
    "        compute_target = ComputeTarget.create(ws, compute_name, provisioning_config)\n",
    "\n",
    "      ### can poll for a minimum number of nodes and for a specific timeout.\n",
    "      ### if no min node count is provided it will use the scale settings for the cluster\n",
    "        compute_target.wait_for_completion(show_output=True, min_node_count=None, timeout_in_minutes=20)\n",
    "\n",
    "      ### For a more detailed view of current AmlCompute status, use get_status()\n",
    "        print(compute_target.get_status().serialize())\n",
    "      \n",
    "    alert_config = AlertConfiguration(alert_email_Address) ########assigning email address for alert. App inisght feature need to be enabled for email alert to work\n",
    "    \n",
    "    try:\n",
    "        if DataDriftDetector.get_by_name(ws, model_datamonitor_name) :\n",
    "            print(model_datamonitor_name,'monitor found')\n",
    "      # get data drift detector by name\n",
    "            monitor = DataDriftDetector.get_by_name(ws, model_datamonitor_name)\n",
    "    except:\n",
    "        monitor = DataDriftDetector.create_from_datasets(ws, model_datamonitor_name, baseline, target, \n",
    "                                                              compute_target='cluster',         # compute target for scheduled pipeline and backfills \n",
    "                                                              frequency='Day',                     # how often to analyze target data\n",
    "                                                              feature_list=None,                    # list of features to detect drift on\n",
    "                                                              drift_threshold=None,                 # threshold from 0 to 1 for email alerting\n",
    "                                                              latency=0,                            # SLA in hours for target data to arrive in the dataset\n",
    "                                                              alert_config=None)            # email addresses to send alert\n",
    "  \n",
    "  \n",
    "        monitor = DataDriftDetector.get_by_name(ws, model_datamonitor_name)\n",
    "  \n",
    "  ### create feature list - need to exclude columns that naturally drift or increment over time, such as year, day, index\n",
    "    columns  = list(baseline.take(1).to_pandas_dataframe())\n",
    "    exclude  = exclude_list  #,'__index_level_0__'\n",
    "    print(exclude)\n",
    "    print(exclude_list)\n",
    "    if exclude is not None:\n",
    "        features = [col for col in columns if col not in exclude]\n",
    "        print(features)\n",
    "        # update the feature list\n",
    "        monitor  = monitor.update(feature_list=features)\n",
    "  \n",
    "    monitor.disable_schedule()\n",
    "#     monitor.enable_schedule()\n",
    "\n",
    "    target_df=target.to_pandas_dataframe(on_error='null', out_of_range_datetime='null')\n",
    "    target_df['scoring_date'] = target_df['scoring_date'].dt.strftime('%Y-%m-%d')\n",
    "    target_df['scoring_date'] = pd.to_datetime(target_df['scoring_date'],infer_datetime_format=True)\n",
    "    backfill_start_date = target_df['scoring_date'].min()\n",
    "    backfill_end_date = target_df['scoring_date'].max()\n",
    "    backfill = monitor.backfill(backfill_start_date, backfill_end_date)\n",
    "    monitor.enable_schedule()\n",
    "  \n",
    "    print ('################## Summary of the run ###############################')\n",
    "    print ('####### model_files_path       ',model_files_path)\n",
    "    print ('####### model_datastore_name   ',model_datastore_name)\n",
    "    print ('####### model_datamonitor_name ',model_datamonitor_name)\n",
    "    print ('####### exclude_list           ',exclude_list)\n",
    "    print ('####### alert_email_Address    ',alert_email_Address)\n",
    "    print ('####### backfill               ',backfill)\n",
    "    print ('######################################################################')\n",
    "    return backfill"
   ]
  },
  {
   "attachments": {
    "image-3.png": {
     "image/png": "[encoded data removed]"
    }
   },
   "cell_type": "markdown",
   "metadata": {},
   "source": [
    "### Step 4 Create a file with metadata information for all the models \n",
    "\n",
    "\n",
    "* Metadata file format = Id, datastore_monitor_name, model_files_path,  alert_email_Address, ignore_list\n",
    "\n",
    "* We have used a csv file with above metadata information for example\n",
    "\n",
    "![image-3.png](attachment:image-3.png)"
   ]
  },
  {
   "cell_type": "markdown",
   "metadata": {},
   "source": [
    "### Step 5 Run the data drift monitor for multiple model in sequence\n",
    "\n",
    "* Using below python code along with information stored in metadata file and data drift function, we can create/update/daily run the data drift for multiple model in sequence\n"
   ]
  },
  {
   "cell_type": "code",
   "execution_count": null,
   "metadata": {},
   "outputs": [],
   "source": [
    "metadata_df = pd.read_csv('<MetaData file input>')\n",
    "\n",
    "for i in range(len(metadata_df)):\n",
    "    print ('################## Input for the current run ###############################')\n",
    "    print ('####### model_files_path       ',metadata_df['model_files_path'][i])\n",
    "    print ('####### model_datastore_name   ',metadata_df['datastore_monitor_name'][i] )\n",
    "    print ('####### model_datamonitor_name ',metadata_df['datastore_monitor_name'][i] )\n",
    "    print ('####### exclude_list           ',metadata_df['ignore_list'][i] )\n",
    "    print ('####### alert_email_Address    ',metadata_df['alert_email_Address'][i] )\n",
    "    print ('######################################################################')\n",
    "  \n",
    "    model_files_path, model_datastore_name, model_datamonitor_name = metadata_df['model_files_path'][i],metadata_df['datastore_monitor_name'][i],metadata_df['datastore_monitor_name'][i]\n",
    "    exclude_list = list(str(metadata_df['ignore_list'][i]).split(\",\"))\n",
    "    print('final parameter  ', model_files_path, model_datastore_name, model_datamonitor_name,exclude_list)\n",
    "    try:\n",
    "  #data_drift_function(model_files_path, model_datastore_name, model_datamonitor_name,exclude_list,code_type,['****@microsoft.com'])\n",
    "        backfill = data_drift_function(model_files_path, model_datastore_name, model_datamonitor_name,['****@microsoft.com'],exclude_list)\n",
    "\n",
    "    except:\n",
    "        print('Error found for  ', model_files_path, model_datastore_name, model_datamonitor_name,['****@microsoft.com'],exclude_list)"
   ]
  }
 ],
 "metadata": {
  "kernelspec": {
   "display_name": "Python 3",
   "language": "python",
   "name": "python3"
  },
  "language_info": {
   "codemirror_mode": {
    "name": "ipython",
    "version": 3
   },
   "file_extension": ".py",
   "mimetype": "text/x-python",
   "name": "python",
   "nbconvert_exporter": "python",
   "pygments_lexer": "ipython3",
   "version": "3.7.7"
  }
 },
 "nbformat": 4,
 "nbformat_minor": 4
}
